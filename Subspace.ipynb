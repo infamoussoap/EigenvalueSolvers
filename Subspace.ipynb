{
 "cells": [
  {
   "cell_type": "code",
   "execution_count": 1,
   "id": "5e6f0e76",
   "metadata": {},
   "outputs": [],
   "source": [
    "import numpy as np\n",
    "import scipy as scipy\n",
    "\n",
    "import matplotlib.pyplot as plt"
   ]
  },
  {
   "cell_type": "code",
   "execution_count": 2,
   "id": "f0e3d637",
   "metadata": {},
   "outputs": [],
   "source": [
    "from utils import gradient_descent, nesterov_descent, power_iteration"
   ]
  },
  {
   "cell_type": "code",
   "execution_count": 3,
   "id": "cbdc8a3c",
   "metadata": {},
   "outputs": [],
   "source": [
    "dim = 1000\n",
    "\n",
    "B = np.random.randn(dim, dim)\n",
    "eig_vals, U = np.linalg.eigh(B @ B.T)\n",
    "\n",
    "eig_vals = np.logspace(-4, 4, dim, base=10)\n",
    "\n",
    "A = U @ np.diag(eig_vals) @ U.T"
   ]
  },
  {
   "cell_type": "code",
   "execution_count": 5,
   "id": "0c77df5f",
   "metadata": {},
   "outputs": [],
   "source": [
    "x = np.random.normal(0, 1, dim)"
   ]
  },
  {
   "cell_type": "code",
   "execution_count": 6,
   "id": "2e0a3edd",
   "metadata": {},
   "outputs": [
    {
     "name": "stdout",
     "output_type": "stream",
     "text": [
      "9999.999999997373\n",
      "9817.298406188906\n",
      "9637.934799615778\n"
     ]
    }
   ],
   "source": [
    "working_subspace = []\n",
    "\n",
    "for i in range(3):\n",
    "    if len(working_subspace) == 0:\n",
    "        subspace = None\n",
    "    else:\n",
    "        subspace = np.array(working_subspace).T\n",
    "        \n",
    "    out = gradient_descent(A, x.copy(), lr=100, which='max', maxiter=1000, tol=1e-10, save_history=False,\n",
    "                           subspace=subspace)\n",
    "    max_eigval, max_eigvec = out\n",
    "    print(max_eigval)\n",
    "    working_subspace.append(max_eigvec)"
   ]
  },
  {
   "cell_type": "code",
   "execution_count": 7,
   "id": "f2fac95b",
   "metadata": {},
   "outputs": [
    {
     "data": {
      "text/plain": [
       "array([ 9637.93479962,  9817.29840619, 10000.        ])"
      ]
     },
     "execution_count": 7,
     "metadata": {},
     "output_type": "execute_result"
    }
   ],
   "source": [
    "eig_vals[-3:]"
   ]
  },
  {
   "cell_type": "markdown",
   "id": "2553d4be",
   "metadata": {},
   "source": [
    "# Min Eigenvalue"
   ]
  },
  {
   "cell_type": "code",
   "execution_count": 17,
   "id": "c41b1022",
   "metadata": {},
   "outputs": [],
   "source": [
    "maxiter = 50_000"
   ]
  },
  {
   "cell_type": "code",
   "execution_count": 18,
   "id": "0879b927",
   "metadata": {},
   "outputs": [],
   "source": [
    "max_eigval, _ = gradient_descent(A, x.copy(), lr=100, which='max', maxiter=1000, tol=1e-10, save_history=False)\n",
    "\n",
    "lr = 1 / (2.02 * max_eigval)"
   ]
  },
  {
   "cell_type": "code",
   "execution_count": 19,
   "id": "615a93e0",
   "metadata": {},
   "outputs": [
    {
     "name": "stdout",
     "output_type": "stream",
     "text": [
      "0.00013398189279975153\n",
      "0.00016778365750257242\n",
      "0.00019846241103508216\n"
     ]
    }
   ],
   "source": [
    "working_subspace = []\n",
    "\n",
    "for i in range(3):\n",
    "    if len(working_subspace) == 0:\n",
    "        subspace = None\n",
    "    else:\n",
    "        subspace = np.array(working_subspace).T\n",
    "        \n",
    "    out = nesterov_descent(A, x.copy(), lr=lr, which='min', maxiter=maxiter, tol=1e-10, save_history=False,\n",
    "                           subspace=subspace)\n",
    "    min_eigval, min_eigvec = out\n",
    "    print(min_eigval)\n",
    "    working_subspace.append(min_eigvec)"
   ]
  },
  {
   "cell_type": "code",
   "execution_count": 20,
   "id": "39bbdb38",
   "metadata": {},
   "outputs": [
    {
     "data": {
      "text/plain": [
       "array([0.0001    , 0.00010186, 0.00010376])"
      ]
     },
     "execution_count": 20,
     "metadata": {},
     "output_type": "execute_result"
    }
   ],
   "source": [
    "eig_vals[:3]"
   ]
  },
  {
   "cell_type": "code",
   "execution_count": null,
   "id": "db2d7c86",
   "metadata": {},
   "outputs": [],
   "source": []
  }
 ],
 "metadata": {
  "kernelspec": {
   "display_name": "Python 3 (ipykernel)",
   "language": "python",
   "name": "python3"
  },
  "language_info": {
   "codemirror_mode": {
    "name": "ipython",
    "version": 3
   },
   "file_extension": ".py",
   "mimetype": "text/x-python",
   "name": "python",
   "nbconvert_exporter": "python",
   "pygments_lexer": "ipython3",
   "version": "3.10.6"
  }
 },
 "nbformat": 4,
 "nbformat_minor": 5
}
