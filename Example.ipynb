{
 "cells": [
  {
   "cell_type": "code",
   "execution_count": 1,
   "id": "121140d0",
   "metadata": {},
   "outputs": [],
   "source": [
    "import numpy as np\n",
    "import pandas as pd\n",
    "import scipy as scipy\n",
    "\n",
    "import time\n",
    "\n",
    "import matplotlib.pyplot as plt"
   ]
  },
  {
   "cell_type": "code",
   "execution_count": 2,
   "id": "8e023506",
   "metadata": {},
   "outputs": [],
   "source": [
    "from utils import gradient_descent, nesterov_descent, power_iteration"
   ]
  },
  {
   "cell_type": "code",
   "execution_count": 3,
   "id": "5e461eac",
   "metadata": {},
   "outputs": [],
   "source": [
    "dim = 1000\n",
    "\n",
    "B = np.random.randn(dim, dim)\n",
    "eig_vals, U = np.linalg.eigh(B @ B.T)\n",
    "\n",
    "true_eig_vals = np.logspace(-2, 2, dim, base=10)\n",
    "\n",
    "A = U @ np.diag(true_eig_vals) @ U.T"
   ]
  },
  {
   "cell_type": "code",
   "execution_count": 4,
   "id": "aecda3dd",
   "metadata": {},
   "outputs": [],
   "source": [
    "maxiter = 100_000"
   ]
  },
  {
   "cell_type": "markdown",
   "id": "c20f3e01",
   "metadata": {},
   "source": [
    "# Finding Maximum Eigenvalue"
   ]
  },
  {
   "cell_type": "code",
   "execution_count": 5,
   "id": "b974515b",
   "metadata": {},
   "outputs": [
    {
     "name": "stdout",
     "output_type": "stream",
     "text": [
      "CPU times: user 71.9 ms, sys: 19.3 ms, total: 91.1 ms\n",
      "Wall time: 119 ms\n"
     ]
    },
    {
     "data": {
      "text/plain": [
       "array([100.])"
      ]
     },
     "execution_count": 5,
     "metadata": {},
     "output_type": "execute_result"
    }
   ],
   "source": [
    "%%time\n",
    "max_eigval, max_eigvec = scipy.sparse.linalg.eigsh(A, k=1, which='LM', maxiter=maxiter, tol=1e-8)\n",
    "max_eigval"
   ]
  },
  {
   "cell_type": "code",
   "execution_count": 6,
   "id": "5ac0088c",
   "metadata": {},
   "outputs": [
    {
     "name": "stdout",
     "output_type": "stream",
     "text": [
      "CPU times: user 140 ms, sys: 2.35 ms, total: 142 ms\n",
      "Wall time: 150 ms\n"
     ]
    },
    {
     "data": {
      "text/plain": [
       "np.float64(99.99999999470775)"
      ]
     },
     "execution_count": 6,
     "metadata": {},
     "output_type": "execute_result"
    }
   ],
   "source": [
    "%%time\n",
    "x = np.random.normal(0, 1, dim)\n",
    "\n",
    "max_eigval, max_eigvec = gradient_descent(A, x.copy(), lr=100, which='max', maxiter=1000, tol=1e-10, \n",
    "                                          save_history=False)\n",
    "max_eigval"
   ]
  },
  {
   "cell_type": "markdown",
   "id": "bb51e280",
   "metadata": {},
   "source": [
    "# Finding Minimum Eigenvalue"
   ]
  },
  {
   "cell_type": "code",
   "execution_count": 7,
   "id": "38373d51",
   "metadata": {},
   "outputs": [
    {
     "name": "stdout",
     "output_type": "stream",
     "text": [
      "CPU times: user 9.63 s, sys: 51 ms, total: 9.68 s\n",
      "Wall time: 9.71 s\n"
     ]
    },
    {
     "data": {
      "text/plain": [
       "array([0.01])"
      ]
     },
     "execution_count": 7,
     "metadata": {},
     "output_type": "execute_result"
    }
   ],
   "source": [
    "%%time\n",
    "min_eigval, min_eigvec = scipy.sparse.linalg.eigsh(A, k=1, which='SM', maxiter=maxiter, tol=1e-8)\n",
    "min_eigval"
   ]
  },
  {
   "cell_type": "markdown",
   "id": "1120a201",
   "metadata": {},
   "source": [
    "Gradient descent is needed to find the maximum eigenvalue. This is used to find the optimum learning rate for Nesterov descent."
   ]
  },
  {
   "cell_type": "code",
   "execution_count": 8,
   "id": "9dec5cf4",
   "metadata": {},
   "outputs": [
    {
     "name": "stdout",
     "output_type": "stream",
     "text": [
      "CPU times: user 611 ms, sys: 4 ms, total: 615 ms\n",
      "Wall time: 617 ms\n"
     ]
    },
    {
     "data": {
      "text/plain": [
       "np.float64(0.010020944189180155)"
      ]
     },
     "execution_count": 8,
     "metadata": {},
     "output_type": "execute_result"
    }
   ],
   "source": [
    "%%time\n",
    "x = np.random.normal(0, 1, dim)\n",
    "\n",
    "max_eigval, _ = gradient_descent(A, x.copy(), lr=100, which='max', maxiter=1000, tol=1e-10, \n",
    "                                 save_history=False)\n",
    "\n",
    "lr = 1 / (2.02 * max_eigval)\n",
    "out = nesterov_descent(A, x.copy(), lr=lr, which='min', maxiter=maxiter, tol=1e-10, save_history=True)\n",
    "    \n",
    "min_eigval, _, min_gd_history = out\n",
    "min_eigval"
   ]
  },
  {
   "cell_type": "markdown",
   "id": "cdfdb1a5",
   "metadata": {},
   "source": [
    "# Finding the top 3 eigenvalues\n",
    "\n",
    "We use the subspace projection method"
   ]
  },
  {
   "cell_type": "code",
   "execution_count": 9,
   "id": "0fc93966",
   "metadata": {},
   "outputs": [
    {
     "name": "stdout",
     "output_type": "stream",
     "text": [
      "99.99999999123207\n",
      "99.08228096490572\n",
      "98.17298409047547\n"
     ]
    }
   ],
   "source": [
    "working_subspace = []\n",
    "\n",
    "for i in range(3):\n",
    "    if len(working_subspace) == 0:\n",
    "        subspace = None\n",
    "    else:\n",
    "        subspace = np.array(working_subspace).T\n",
    "        \n",
    "    out = gradient_descent(A, x.copy(), lr=100, which='max', maxiter=1000, tol=1e-10, save_history=False,\n",
    "                           subspace=subspace)\n",
    "    max_eigval, max_eigvec = out\n",
    "    print(max_eigval)\n",
    "    working_subspace.append(max_eigvec)"
   ]
  },
  {
   "cell_type": "code",
   "execution_count": 10,
   "id": "d4c77592",
   "metadata": {},
   "outputs": [
    {
     "data": {
      "text/plain": [
       "array([ 98.17298406,  99.08228099, 100.        ])"
      ]
     },
     "execution_count": 10,
     "metadata": {},
     "output_type": "execute_result"
    }
   ],
   "source": [
    "true_eig_vals[-3:]"
   ]
  },
  {
   "cell_type": "markdown",
   "id": "fe28be89",
   "metadata": {},
   "source": [
    "# Finding smalles 3 eigenvalues"
   ]
  },
  {
   "cell_type": "code",
   "execution_count": 11,
   "id": "e5064de6",
   "metadata": {},
   "outputs": [],
   "source": [
    "max_eigval, _ = gradient_descent(A, x.copy(), lr=100, which='max', maxiter=1000, tol=1e-10, save_history=False)\n",
    "\n",
    "lr = 1 / (2.02 * max_eigval)"
   ]
  },
  {
   "cell_type": "code",
   "execution_count": 12,
   "id": "2c068df8",
   "metadata": {},
   "outputs": [],
   "source": [
    "maxiter = 50_000"
   ]
  },
  {
   "cell_type": "code",
   "execution_count": 13,
   "id": "dedb2906",
   "metadata": {},
   "outputs": [
    {
     "name": "stdout",
     "output_type": "stream",
     "text": [
      "0.010020944189180155\n",
      "0.010093819568543376\n",
      "0.010186357796717855\n"
     ]
    }
   ],
   "source": [
    "working_subspace = []\n",
    "\n",
    "for i in range(3):\n",
    "    if len(working_subspace) == 0:\n",
    "        subspace = None\n",
    "    else:\n",
    "        subspace = np.array(working_subspace).T\n",
    "        \n",
    "    out = nesterov_descent(A, x.copy(), lr=lr, which='min', maxiter=maxiter, tol=1e-10, save_history=False,\n",
    "                           subspace=subspace)\n",
    "    min_eigval, min_eigvec = out\n",
    "    print(min_eigval)\n",
    "    working_subspace.append(min_eigvec)"
   ]
  },
  {
   "cell_type": "code",
   "execution_count": 14,
   "id": "39d77823",
   "metadata": {},
   "outputs": [
    {
     "data": {
      "text/plain": [
       "array([0.01      , 0.01009262, 0.0101861 ])"
      ]
     },
     "execution_count": 14,
     "metadata": {},
     "output_type": "execute_result"
    }
   ],
   "source": [
    "true_eig_vals[:3]"
   ]
  },
  {
   "cell_type": "code",
   "execution_count": null,
   "id": "c7cb3bb9",
   "metadata": {},
   "outputs": [],
   "source": []
  }
 ],
 "metadata": {
  "kernelspec": {
   "display_name": "Python 3 (ipykernel)",
   "language": "python",
   "name": "python3"
  },
  "language_info": {
   "codemirror_mode": {
    "name": "ipython",
    "version": 3
   },
   "file_extension": ".py",
   "mimetype": "text/x-python",
   "name": "python",
   "nbconvert_exporter": "python",
   "pygments_lexer": "ipython3",
   "version": "3.10.6"
  }
 },
 "nbformat": 4,
 "nbformat_minor": 5
}
