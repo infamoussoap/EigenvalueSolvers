{
 "cells": [
  {
   "cell_type": "code",
   "execution_count": 1,
   "id": "121140d0",
   "metadata": {},
   "outputs": [],
   "source": [
    "import numpy as np\n",
    "import pandas as pd\n",
    "import scipy as scipy\n",
    "\n",
    "import time\n",
    "\n",
    "import matplotlib.pyplot as plt"
   ]
  },
  {
   "cell_type": "code",
   "execution_count": 2,
   "id": "8e023506",
   "metadata": {},
   "outputs": [],
   "source": [
    "from utils import gradient_descent, nesterov_descent, power_iteration"
   ]
  },
  {
   "cell_type": "code",
   "execution_count": 17,
   "id": "5e461eac",
   "metadata": {},
   "outputs": [],
   "source": [
    "dim = 1000\n",
    "\n",
    "B = np.random.randn(dim, dim)\n",
    "eig_vals, U = np.linalg.eigh(B @ B.T)\n",
    "\n",
    "true_eig_vals = np.logspace(-3, 3, dim, base=10)\n",
    "\n",
    "A = U @ np.diag(true_eig_vals) @ U.T"
   ]
  },
  {
   "cell_type": "code",
   "execution_count": 18,
   "id": "aecda3dd",
   "metadata": {},
   "outputs": [],
   "source": [
    "maxiter = 100_000"
   ]
  },
  {
   "cell_type": "markdown",
   "id": "a7af1d8c",
   "metadata": {},
   "source": [
    "# Finding accuracy up to a tolerance\n",
    "\n",
    "We know from Nesterov descent that\n",
    "$$|\\widetilde{\\lambda}_k - \\lambda_{\\min}|\\ \\leq\\ \\frac{8}{h (k+1)^2}$$\n",
    "where $h$ is the learning rate and $\\widetilde{\\lambda}_k$ is the $k$-th iterate from Nesterov desecent. So if we want an accuracy up to $\\varepsilon$ accuracy, we need\n",
    "$$k = \\sqrt{\\frac{8}{h\\varepsilon}}$$\n",
    "iterations"
   ]
  },
  {
   "cell_type": "code",
   "execution_count": 19,
   "id": "5702ae53",
   "metadata": {},
   "outputs": [],
   "source": [
    "x = np.random.normal(0, 1, dim)"
   ]
  },
  {
   "cell_type": "code",
   "execution_count": 20,
   "id": "49775a72",
   "metadata": {},
   "outputs": [],
   "source": [
    "e = 1e-6\n",
    "max_eigval, _ = gradient_descent(A, x.copy(), lr=100, which='max', maxiter=1000, tol=1e-10, \n",
    "                                     save_history=False)\n",
    "\n",
    "lr = 1 / (2.02 * max_eigval)    "
   ]
  },
  {
   "cell_type": "code",
   "execution_count": 23,
   "id": "33a27f28",
   "metadata": {},
   "outputs": [
    {
     "name": "stdout",
     "output_type": "stream",
     "text": [
      "127121\n",
      "CPU times: user 12 s, sys: 52.4 ms, total: 12.1 s\n",
      "Wall time: 12.1 s\n"
     ]
    }
   ],
   "source": [
    "%%time\n",
    "maxiter = int(np.sqrt(8 / (lr * e)))\n",
    "print(maxiter)\n",
    "min_eigval, min_eigvec = nesterov_descent(A, x.copy(), lr=lr, which='min', maxiter=maxiter, tol=0, \n",
    "                                          save_history=False)"
   ]
  },
  {
   "cell_type": "code",
   "execution_count": 24,
   "id": "394cf4f3",
   "metadata": {},
   "outputs": [
    {
     "data": {
      "text/plain": [
       "np.float64(5.2750703666065366e-08)"
      ]
     },
     "execution_count": 24,
     "metadata": {},
     "output_type": "execute_result"
    }
   ],
   "source": [
    "min_eigval - min(true_eig_vals)"
   ]
  },
  {
   "cell_type": "code",
   "execution_count": null,
   "id": "4f89fa60",
   "metadata": {},
   "outputs": [],
   "source": []
  }
 ],
 "metadata": {
  "kernelspec": {
   "display_name": "Python 3 (ipykernel)",
   "language": "python",
   "name": "python3"
  },
  "language_info": {
   "codemirror_mode": {
    "name": "ipython",
    "version": 3
   },
   "file_extension": ".py",
   "mimetype": "text/x-python",
   "name": "python",
   "nbconvert_exporter": "python",
   "pygments_lexer": "ipython3",
   "version": "3.10.6"
  }
 },
 "nbformat": 4,
 "nbformat_minor": 5
}
